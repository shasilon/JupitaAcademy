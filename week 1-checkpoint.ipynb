{
 "cells": [
  {
   "cell_type": "markdown",
   "id": "684875b7",
   "metadata": {},
   "source": [
    "### Task 1"
   ]
  },
  {
   "cell_type": "code",
   "execution_count": null,
   "id": "ce6ddfc0",
   "metadata": {},
   "outputs": [],
   "source": [
    "grade_1 = 25\n",
    "grade_2 = 30\n",
    "grade_3 = 28"
   ]
  },
  {
   "cell_type": "markdown",
   "id": "d0d1bda1",
   "metadata": {},
   "source": [
    "#### *Calculate and display the total number of students*"
   ]
  },
  {
   "cell_type": "code",
   "execution_count": 2,
   "id": "b484b8cf",
   "metadata": {},
   "outputs": [
    {
     "name": "stdout",
     "output_type": "stream",
     "text": [
      "83\n"
     ]
    }
   ],
   "source": [
    "grade_1 = 25\n",
    "grade_2 = 30\n",
    "grade_3 = 28\n",
    "total_number = (grade_1 + grade_2 + grade_3)\n",
    "print(total_number)"
   ]
  },
  {
   "cell_type": "markdown",
   "id": "4ea60a6b",
   "metadata": {},
   "source": [
    "#### *Calculate and display the average number of students per grade*\n"
   ]
  },
  {
   "cell_type": "code",
   "execution_count": 3,
   "id": "2ec5cf71",
   "metadata": {},
   "outputs": [
    {
     "name": "stdout",
     "output_type": "stream",
     "text": [
      "28\n"
     ]
    }
   ],
   "source": [
    "average_number = total_number / 3\n",
    "print(round(average_number))"
   ]
  },
  {
   "cell_type": "markdown",
   "id": "b964f3ac",
   "metadata": {},
   "source": [
    "### Task 2"
   ]
  },
  {
   "cell_type": "markdown",
   "id": "cf1dad1d",
   "metadata": {},
   "source": [
    "#### *Assign the messages in variables corresponding to each grade and display grade 2*"
   ]
  },
  {
   "cell_type": "code",
   "execution_count": 6,
   "id": "d5054002",
   "metadata": {},
   "outputs": [
    {
     "name": "stdout",
     "output_type": "stream",
     "text": [
      "Hello Grade 2 students! Get ready to learn and have fun.\n"
     ]
    }
   ],
   "source": [
    "grade_one = 'Welcome to Grade 1! We are excited to have you.'\n",
    "grade_two = 'Hello Grade 2 students! Get ready to learn and have fun.'\n",
    "grade_three = 'Welcome Grade 3 students. Let\\'s make this a great year of learning.'\n",
    "print(grade_two)"
   ]
  },
  {
   "cell_type": "markdown",
   "id": "cab163ec",
   "metadata": {},
   "source": [
    "### Task 3"
   ]
  },
  {
   "cell_type": "markdown",
   "id": "bedf4b95",
   "metadata": {},
   "source": [
    "#### *Create a list of grades and a list of subjects for each grade*"
   ]
  },
  {
   "cell_type": "code",
   "execution_count": 7,
   "id": "741f5bb6",
   "metadata": {},
   "outputs": [],
   "source": [
    "grade_list = ['grade_one', 'grade_two', 'grade_three']\n",
    "\n",
    "grade_one_subjects = ['maths', 'english', 'science']\n",
    "grade_two_subjects = ['english', 'science', 'history']\n",
    "grade_three_subjects = ['science', 'history', 'maths']"
   ]
  },
  {
   "cell_type": "markdown",
   "id": "9a289ca2",
   "metadata": {},
   "source": [
    "#### *Create a dictionary where keys are the grade names and values are lists of teachers for each grade*"
   ]
  },
  {
   "cell_type": "code",
   "execution_count": null,
   "id": "ee43f3fc",
   "metadata": {},
   "outputs": [],
   "source": [
    "grade_teachers = {\n",
    "    'grade_one': ['Mr Smith', 'Ms Johnson', 'Mr Davis'],\n",
    "    'grade_two': ['Ms Williams', 'Mr Davis', 'Ms Brown'],\n",
    "    'grade_three': ['Ms Davis', 'Mr Johnson', 'Mr Smith']\n",
    "}"
   ]
  },
  {
   "cell_type": "markdown",
   "id": "29e796d0",
   "metadata": {},
   "source": [
    "#### *Display the subjects thought in grade 3 and display the values of grade 2 in the dictionary*\n"
   ]
  },
  {
   "cell_type": "code",
   "execution_count": 10,
   "id": "770e12ce",
   "metadata": {},
   "outputs": [
    {
     "name": "stdout",
     "output_type": "stream",
     "text": [
      "['science', 'history', 'maths']\n",
      "['Ms Williams', 'Mr Davis', 'Ms Brown']\n"
     ]
    }
   ],
   "source": [
    "grade_teachers = {\n",
    "    'grade_one': ['Mr Smith', 'Ms Johnson', 'Mr Davis'],\n",
    "    'grade_two': ['Ms Williams', 'Mr Davis', 'Ms Brown'],\n",
    "    'grade_three': ['Ms Davis', 'Mr Johnson', 'Mr Smith']\n",
    "}\n",
    "print(grade_three_subjects)\n",
    "print(grade_teachers['grade_two'])\n"
   ]
  },
  {
   "cell_type": "code",
   "execution_count": null,
   "id": "1c599db2",
   "metadata": {},
   "outputs": [],
   "source": []
  }
 ],
 "metadata": {
  "kernelspec": {
   "display_name": "Python 3 (ipykernel)",
   "language": "python",
   "name": "python3"
  },
  "language_info": {
   "codemirror_mode": {
    "name": "ipython",
    "version": 3
   },
   "file_extension": ".py",
   "mimetype": "text/x-python",
   "name": "python",
   "nbconvert_exporter": "python",
   "pygments_lexer": "ipython3",
   "version": "3.11.5"
  }
 },
 "nbformat": 4,
 "nbformat_minor": 5
}
