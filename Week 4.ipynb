{
 "cells": [
  {
   "cell_type": "markdown",
   "id": "6f6399cd",
   "metadata": {},
   "source": [
    "#### Calculate the mean, median, and mode"
   ]
  },
  {
   "cell_type": "markdown",
   "id": "faf27ae5",
   "metadata": {},
   "source": [
    "dataset [5, 7, 2, 8, 5, 3, 7]\n",
    "    \n",
    "sort data = [2, 3, 5, 5, 7, 7, 8]\n",
    "mean = total sum of values in dataset / total count of dataset\n",
    "mean = 37/7\n",
    "mean = 5.28"
   ]
  },
  {
   "cell_type": "markdown",
   "id": "6092bb32",
   "metadata": {},
   "source": [
    "sort data = [2, 3, 5, 5, 7, 7, 8]\n",
    "median = middle value of the dataset\n",
    "median = 5\n"
   ]
  },
  {
   "cell_type": "markdown",
   "id": "106ea491",
   "metadata": {},
   "source": [
    "sort data = [2, 3, 5, 5, 7, 7, 8]\n",
    "mode = value with highest frequency of occurence\n",
    "mode = 5 and 7"
   ]
  },
  {
   "cell_type": "markdown",
   "id": "441d74c9",
   "metadata": {},
   "source": [
    "#### Compute the range, variance, and standard deviation"
   ]
  },
  {
   "cell_type": "markdown",
   "id": "732b8850",
   "metadata": {},
   "source": [
    "dataset: [12, 15, 18, 22, 25]\n",
    "    \n",
    "range = diffirence between the maximum value and the minimum value in the dataset\n",
    "range = 25 - 12\n",
    "range = 13"
   ]
  },
  {
   "cell_type": "markdown",
   "id": "432764be",
   "metadata": {},
   "source": [
    "dataset: [12, 15, 18, 22, 25]\n",
    "mean = 92/5\n",
    "mean = 18.4\n",
    "squared difference from the mean of each value\n",
    "Squared difference for 12: (12−18.4)2 = 37.21\n",
    "Squared difference for 15: (15−18.4)2 = 11.56\n",
    "Squared difference for 18: (18−18.4)2 = 0.16\n",
    "Squared difference for 22: (22−18.4)2 = 12.96\n",
    "Squared difference for 25: (25−18.4)2 = 43.56\n",
    "\n",
    "variance = 105.45 / 5 \n",
    "variance = 21.09"
   ]
  },
  {
   "cell_type": "markdown",
   "id": "761dba38",
   "metadata": {},
   "source": [
    "dataset: [12, 15, 18, 22, 25]\n",
    "    \n",
    "standard deviation is the square root of the variance\n",
    "squareroot of 21.09\n",
    "standard deviation = 4.59"
   ]
  },
  {
   "cell_type": "markdown",
   "id": "5f94535d",
   "metadata": {},
   "source": [
    "#### Outlier Detection"
   ]
  },
  {
   "cell_type": "markdown",
   "id": "fe9d3c62",
   "metadata": {},
   "source": [
    "dataset [17, 20, 21, 18, 95, 22, 19, 23]\n",
    "\n",
    "sort data = [17, 18, 19, 20, 21, 22, 23, 95]\n",
    "any figures that fall below our lower fence or above our higher fence are out outliers.\n",
    "\n",
    "Lower fence = Q1 - 1.5(IQR)\n",
    "Higher fence = Q3 + 1.5(IQR)\n",
    "IQR = Q3 - Q1\n",
    "\n",
    "1st quartile(Q1) =  25/100 * n+1 =  25/100 * 8+1 =  25/100 * 9 =  2.2 (2nd position) = 18\n",
    "3rd quartile(Q3) =  75/100 * n+1 =  75/100 * 8+1 =  75/100 * 9 =  6.7 (6th position) = 22\n",
    "    \n",
    "    \n",
    "IQR = 22 - 18\n",
    "IQR = 4\n",
    "\n",
    "Lower fence = 18 - 1.5(4) = 12\n",
    "Higher fence = 22 + 1.5(4) = 28\n",
    "The outlier detection has detected 95 as an outlier\n",
    "\n",
    "five number summary:\n",
    "    minimum = 17\n",
    "    1st quartile = 18\n",
    "    median = 20\n",
    "    3rd quartile = 22\n",
    "    maximum = 23"
   ]
  },
  {
   "cell_type": "markdown",
   "id": "d92ac65f",
   "metadata": {},
   "source": [
    "#### Normal Distribution and Z-Score"
   ]
  },
  {
   "cell_type": "markdown",
   "id": "86bb1fbd",
   "metadata": {},
   "source": [
    "Z-Score formula: Z= Value-mean/sd\n",
    "Value = 85\n",
    "Mean = 75\n",
    "Standard deviation = 10\n",
    "Z= 85-75/10 = 1\n",
    "the Z-score is a positive 1 (1 standard deviation to the right)\n",
    "The Z-score of 1 signifies that the value 85 is one standard deviation above the mean of 75 in the given population distribution.\n"
   ]
  },
  {
   "cell_type": "markdown",
   "id": "ebeaeef1",
   "metadata": {},
   "source": [
    "#### Covariance and Correlation"
   ]
  },
  {
   "cell_type": "markdown",
   "id": "36133d2b",
   "metadata": {},
   "source": [
    "dataset = X: [15, 20, 25, 30, 35]\n",
    "          Y: [10, 18, 22, 28, 40]\n",
    "            \n",
    "mean of X = [15 + 20 + 25 + 30 + 35] / 5\n",
    "            = 125/5\n",
    "            = 25\n",
    "        \n",
    "mean of Y = [10 + 18 + 22 + 28 + 40] / 5\n",
    "            = 118/5\n",
    "            = 23.6\n",
    "        \n",
    "Deviations for X (X-mean of X)\n",
    "                = [15 - 25, 20 - 25, 25 - 25, 30 -25, 35 - 25]\n",
    "                = [-10, -5, 0, 5, 10]\n",
    "\n",
    "Deviations for Y (Y-mean of Y)\n",
    "                = [10 - 23.6, 18 - 23.6, 22 - 23.6, 28 - 23.6, 40 - 23.6]\n",
    "                = [-13.6, -5.6, -1.6, 4.4, 16.4]\n",
    "        \n",
    "Covariance(X,Y)\n",
    "Cov(X,Y) = sum(deviations for X)(deviations for Y) / 5 - 1\n",
    "Cov(X,Y) = (-10)(-13.6) + (-5)(-5.6) + (0)(-1.6) + (5)(4.4) + (10)(16.4) / 5 - 1\n",
    "Cov(X,Y) = 136 + 28 + 0 + 22 + 164 / 4\n",
    "         = 350 / 4\n",
    "         = 87.5\n",
    "        \n",
    "Correlation Coefficient(r):\n",
    "    r = Cov(X,Y) / sdx sdy (sdx=standard deviation of X. sdy=standard deviation of Y)\n",
    "    sdx = square root of sum deviations of x(squared) / n - 1\n",
    "    sdx = square root sum[-10, -5, 0, 5, 10](squared) / 5 - 1\n",
    "    sdx = square root 100 + 25 + 0 + 25 + 100 / 4\n",
    "    sdx = square root 250 / 4\n",
    "    sdx = square root 62.5\n",
    "    sdx = 7.91\n",
    "    sdy = square root of sum deviations of y(squared) / n - 1\n",
    "    sdy = square root sum[-13.6, -5.6, -1.6, 4.4, 16.4](squared) / 5 - 1\n",
    "    sdy = square root 184.96 + 31.36 + 2.56 + 19.36 + 268.96 / 4\n",
    "    sdy = square root 507.2 / 4\n",
    "    sdy = square root 126.8\n",
    "    sdy = 11.27\n",
    "    r = 87.5 / 7.91*11.27\n",
    "    r = 87.5 / 89.1457\n",
    "    r = 0.98\n",
    "    \n",
    "    In this case, a correlation coefficient of 0.98 suggests a strong positive correlation between X and Y.\n",
    "    Indicating that as one variable increases, the other tends to increase as well, and vice versa."
   ]
  }
 ],
 "metadata": {
  "kernelspec": {
   "display_name": "Python 3 (ipykernel)",
   "language": "python",
   "name": "python3"
  },
  "language_info": {
   "codemirror_mode": {
    "name": "ipython",
    "version": 3
   },
   "file_extension": ".py",
   "mimetype": "text/x-python",
   "name": "python",
   "nbconvert_exporter": "python",
   "pygments_lexer": "ipython3",
   "version": "3.11.5"
  }
 },
 "nbformat": 4,
 "nbformat_minor": 5
}
